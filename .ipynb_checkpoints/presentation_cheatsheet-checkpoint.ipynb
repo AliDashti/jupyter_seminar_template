{
 "cells": [
  {
   "cell_type": "raw",
   "metadata": {
    "slideshow": {
     "slide_type": "slide"
    }
   },
   "source": [
    "<image>\n",
    "<section data-background=\"./img/connecticut.jpg\" data-state=\"img-transparent no-title-footer\">\n",
    "<div class=\"intro_h\">\n",
    "<h1>Title: Jupyter Reveal Presentation Cheatsheet</h1>\n",
    "<h2>Subtitle: Tricks I learned!</h2>\n",
    "<br><br><br>\n",
    "<h3><span style=\"color:yellow;\">Raw NBConvert</span> can be your best friend!</h3>\n",
    "<br><br><br><br>\n",
    "<p><strong><span class=\"credential\">I</span></strong></p>\n",
    "<p><strong><span class=\"credential\">YOU</span></strong></p>\n",
    "<br><br>\n",
    "<h3><a href=\"#/5/0\">Click to go forward to the ending of your journey</a></h3>\n",
    "</div>\n",
    "</section>\n",
    "</image>"
   ]
  },
  {
   "cell_type": "raw",
   "metadata": {
    "slideshow": {
     "slide_type": "subslide"
    }
   },
   "source": [
    "<image>\n",
    "<section  data-background=\"rgba(150,140,130,0.5)\" data-state=\"no-title-footer\" data-background-transition=\"zoom\">\n",
    "<div>\n",
    "<h1>A Two-Storey Cell</h1>\n",
    "<br><br>\n",
    "<figure>\n",
    "<img width=\"400\" height=\"400\" src=\"./img/hakim.jpg\" alt=\"The Man Who Revealed\">\n",
    "<figcaption><a href=\"https://github.com/hakimel/reveal.js\" target=\"_blank\">Hakim El Hattab: Github</a></figcaption>\n",
    "</figure>\n",
    "</div>\n",
    "</section>\n",
    "<section data-background=\"#bbbddd\" data-background-transition=\"fade\">\n",
    "<h1>A Two-Storey Cell</h1>\n",
    "<figure>\n",
    "<img width=\"200\" height=\"200\" src=\"./img/hakim.jpg\" alt=\"The Man Who Revealed\">\n",
    "<figcaption><a href=\"https://hakim.se/\" target=\"_blank\">Hakim El Hattab:Personal Site</a></figcaption>\n",
    "</figure>\n",
    "</section> \n",
    "</image>"
   ]
  },
  {
   "cell_type": "raw",
   "metadata": {
    "slideshow": {
     "slide_type": "subslide"
    }
   },
   "source": [
    "<image>\n",
    "<section data-background=\"rgba(173,217,228,1.0)\" data-background-repeat=\"repeat\" data-background-size=\"100px\" data-state=\"img-transparent\">\n",
    "<div class=\"Dat_Tran\">\n",
    "<div style=\"float:left; width:65%\">\n",
    "<p>\n",
    "When you need to use special features of Reveals framework, like data-background, data-state, or when you want to type in fancy fragmenting directly in a Jupyuter cell, then you need to use <span style=\"color:red;\">sections</span> directly. But <span style=\"color:red;\">Nbconvert</span> adds additional section tags around your tag that causes Reveal.js to fail. <span style=\"color:red;\">Dat Tran</span> has come up with a post processing stage to clean these double sections; and to identify these specific double tags, he marks them by a custom tag. \n",
    "<h3><span style=\"color:yellow;\">Make sure the Jupyter Cell in such cases is set to Raw NBConvert</span></h3>\n",
    "</p>\n",
    "</div>\n",
    "<div style=\"float:right; width:30%\">\n",
    "<figure>\n",
    "<img src=\"./img/DatTran.jpg\" alt=\"Dat Tran!\">\n",
    "<figcaption><a href=\"https://github.com/datitran\" target=\"_blank\">Dat Tran</a></figcaption>\n",
    "</figure>\n",
    "</div>\n",
    "</div>\n",
    "</section>\n",
    "</image>"
   ]
  },
  {
   "cell_type": "raw",
   "metadata": {
    "slideshow": {
     "slide_type": "subslide"
    }
   },
   "source": [
    "<image>\n",
    "<section  class=\"intro_section\" data-background=\"./img/buffalo.jpg\"  data-state=\"img-transparent no-title-footer\">\n",
    "    <div class=\"trBorder\" align=center>\n",
    "            <div class=\"intro_headings\" align=\"center\">\n",
    "                <h1 class=\"fragment shrink\" style=\"color:blue\">Reproduciple Research in Python</h1>\n",
    "                <h2 class=\"fragment\">Presentation and Documentation</h2>\n",
    "                <h6 class=\"fragment\">with</h6>\n",
    "                <h3 class=\"fragment\">Jupyter Notebook + NB Convert + Reveal.js</h3>\n",
    "                <h6 class=\"fragment\">and</h6>\n",
    "                <h4 class=\"fragment\">\n",
    "                    <span class=\"fragment highlight-current-blue\">HTML</span>\n",
    "                    <span class=\"fragment highlight-blue\">+CSS</span>\n",
    "                    <span class=\"fragment highlight-green\">+Nodejs/Javascript/JQuery</span>\n",
    "                    <span class=\"fragment highlight-red\">+Jinja Templates</span>        \n",
    "                </h4>\n",
    "            </div>\n",
    "    </div>\n",
    "</section>    \n",
    "</image>"
   ]
  },
  {
   "cell_type": "raw",
   "metadata": {
    "slideshow": {
     "slide_type": "subslide"
    }
   },
   "source": [
    "<image>\n",
    "<section  class=\"intro_section\" style=\"background:url(./img/CT_robin.jpg)\"  data-state=\"img-transparent no-title-footer\" data-background-transition=\"zoom\">\n",
    "    <div class=\"trBorder\" align=center>\n",
    "            <div class=\"intro_headings\" align=\"center\">\n",
    "                <h1 class=\"fragment shrink\" style=\"color:blue\">Reproduciple Research in Python</h1>\n",
    "                <h2 class=\"fragment\">Presentation and Documentation</h2>\n",
    "                <h6 class=\"fragment\">with</h6>\n",
    "                <h3 class=\"fragment\">Jupyter Notebook + NB Convert + Reveal.js</h3>\n",
    "                <h6 class=\"fragment\">and</h6>\n",
    "                <h4 class=\"fragment\">\n",
    "                    <span class=\"fragment highlight-current-blue\">HTML</span>\n",
    "                    <span class=\"fragment highlight-blue\">+CSS</span>\n",
    "                    <span class=\"fragment highlight-green\">+Nodejs/Javascript/JQuery</span>\n",
    "                    <span class=\"fragment highlight-red\">+Jinja Templates</span>        \n",
    "                </h4>\n",
    "            </div>\n",
    "    </div>\n",
    "<br><br><br><br><br><br><br><br><br><br><br><br>\n",
    "<div class=\"intro_credentials\" align=\"left\">\n",
    "<p><strong><span>Ali Dashti:   </span></strong><span><a href=\"http://mygithublink.com/\" target=\"_blank\" align=\"left\">my git hub</a></span></p>\n",
    "</div>\n",
    "</section>    \n",
    "</image>"
   ]
  },
  {
   "cell_type": "markdown",
   "metadata": {
    "slideshow": {
     "slide_type": "slide"
    }
   },
   "source": [
    "<h1>Place a few images on the same slide</h1>\n",
    "\n",
    "<div>\n",
    "<div style=\"float:left; width:30%\"><img src=\"./img/sparrow.jpg\" alt=\"Dat Tran!\"></div>\n",
    "<div style=\"float:left; width:30%\"><img src=\"./img/CT_robin.jpg\" alt=\"Dat Tran!\"></div>\n",
    "<div style=\"float:left; width:30%\"><img src=\"./img/hummingbird.jpg\" alt=\"Dat Tran!\"></div>\n",
    "</div>\n"
   ]
  },
  {
   "cell_type": "markdown",
   "metadata": {
    "slideshow": {
     "slide_type": "subslide"
    }
   },
   "source": [
    "<div class=\"latex_formulas\">\n",
    "    <h1><a  href=\"https://en.wikibooks.org/wiki/LaTeX/Advanced_Mathematics\" target=\"_blank\" >Useful Latex Formulas</a></h1>\n",
    "<div style=\"float:left; width:45%\">\n",
    "<h5>changing font size</h5>\n",
    "<br>\n",
    "\\begin{equation}\n",
    "  x = a_0 + \\frac{1}{\\displaystyle a_1 \n",
    "          + \\frac{1}{\\displaystyle a_2 \n",
    "          + \\frac{1}{\\displaystyle a_3 + a_4}}}\n",
    "\\end{equation}\n",
    "</div>\n",
    "<div style=\"float:right; width:45%\">\n",
    "<h5>Align  and multiline subscripts</h5>\n",
    "    <br>\n",
    "\\begin{align}\n",
    " f(x) &= (x+a)(x+b) + \\prod_{\\substack{\n",
    "            1\\le i \\le n\\\\\n",
    "            1\\le j \\le m}}\n",
    "     M_{i,j}\\\\\n",
    "      &= x^2 + (a+b)x + ab + \\prod_{\\substack{\n",
    "            1\\le i \\le n\\\\\n",
    "            1\\le j \\le m}}\n",
    "     M_{i,j}\n",
    "\\end{align}\n",
    "</div>\n",
    "<div style=\"clear:left; float:left; width:45%\">\n",
    "<h5>Boxing Equations</h5>\n",
    "    <br>\n",
    "\\begin{equation}\n",
    " \\boxed{\\overbrace{\n",
    "   \\underbrace{x}_\\text{real} + i\n",
    "   \\underbrace{y}_\\text{imaginary}\n",
    "  }^\\text{complex number}}\n",
    "\\end{equation}\n",
    "</div>\n",
    "<div style=\"float:right; width:45%\">\n",
    "<h5>Cases</h5>\n",
    "    <br>\n",
    "\\[\n",
    " u(x) = \n",
    "  \\begin{cases} \n",
    "   \\exp{x} & \\text{if } x \\geq 0 \\\\\n",
    "   1       & \\text{if } x < 0\n",
    "  \\end{cases}\n",
    "\\]\n",
    "</div>\n",
    "</div>"
   ]
  },
  {
   "cell_type": "code",
   "execution_count": null,
   "metadata": {
    "slideshow": {
     "slide_type": "skip"
    }
   },
   "outputs": [],
   "source": [
    "from IPython.display import HTML\n",
    "from IPython.display import IFrame\n",
    "\n",
    "import sys\n",
    "import os\n",
    "import matplotlib.pylab as plt\n",
    "import pandas as pd\n",
    "import numpy as np\n",
    "\n",
    "\n",
    "sys.path.append(\".\")\n",
    "from seminar_utils import *\n",
    "#os.getcwd()\n",
    "#sys.path"
   ]
  },
  {
   "cell_type": "code",
   "execution_count": null,
   "metadata": {
    "slideshow": {
     "slide_type": "skip"
    }
   },
   "outputs": [],
   "source": [
    "df1 = pd.read_csv(\"./test_data/stats.csv\", index_col=0)\n",
    "df2 = pd.read_csv(\"./test_data/stats _tier2_header.csv\", index_col=0)\n",
    "kwargs = {'max-width': '120px', 'font-size': '10pt'}\n",
    "df3 = df1.iloc[:3,:2]\n",
    "u=  df3.style.set_caption(\"Descriptive Statistics For Unsmoothed Yields\")\\\n",
    "    .set_precision(3)\\\n",
    "    .format({'AC(1)': \"{:0.2f}\",'AC(12)': \"{:0.2f}\", 'AC(36)': '{:.2f}'})\\\n",
    "    .set_table_styles(stats_table_observed_yield())\n",
    "\n",
    "header = \"<h1>Many Small Tables on the same slide</h1>\"\n",
    "u1 = \"<div style='float:left; width:45%;'>{}</div>\".format(u.render())\n",
    "u2 = \"<div style='float:right; width:45%;'>{}</div>\".format(u.render())\n",
    "u3 = \"<div style='clear:left; float:left; width:45%;'>{}</div>\".format(u.render())\n",
    "u4 = \"<div style='float:right; width:45%;'>{}</div>\".format(u.render())\n",
    "u4 = \"<div>{}</div>\".format(header + u1+u2+u3+u4)\n",
    "\n",
    "HTML(u4)"
   ]
  },
  {
   "cell_type": "code",
   "execution_count": null,
   "metadata": {
    "slideshow": {
     "slide_type": "subslide"
    },
    "tags": [
     "to_remove"
    ]
   },
   "outputs": [],
   "source": [
    "from IPython.display import YouTubeVideo\n",
    "YouTubeVideo('8cwWgxbqah0')"
   ]
  },
  {
   "cell_type": "markdown",
   "metadata": {
    "slideshow": {
     "slide_type": "slide"
    }
   },
   "source": [
    "<div>\n",
    "<h1>Bokeh</h1>\n",
    "<a href=\"https://www.youtube.com/watch?v=9FlUFLmaWvY\" target=\"_blank\">\n",
    "<img src=\"img/content_image/bokeh_sara_bird.png\" alt=\"sard_bird_youtube_link\" width=\"50%\" height=\"50%\" align-text=\"center\">\n",
    "</a>\n",
    "</div>"
   ]
  },
  {
   "cell_type": "code",
   "execution_count": null,
   "metadata": {
    "slideshow": {
     "slide_type": "skip"
    }
   },
   "outputs": [],
   "source": [
    "from bokeh_utils import *"
   ]
  },
  {
   "cell_type": "code",
   "execution_count": null,
   "metadata": {
    "slideshow": {
     "slide_type": "subslide"
    },
    "tags": [
     "to_remove"
    ]
   },
   "outputs": [],
   "source": [
    "IFrame('buttons.html', width=700, height=500)"
   ]
  },
  {
   "cell_type": "code",
   "execution_count": null,
   "metadata": {
    "slideshow": {
     "slide_type": "skip"
    }
   },
   "outputs": [],
   "source": [
    "p = periodic_table()"
   ]
  },
  {
   "cell_type": "code",
   "execution_count": null,
   "metadata": {
    "slideshow": {
     "slide_type": "subslide"
    },
    "tags": [
     "to_remove"
    ]
   },
   "outputs": [],
   "source": [
    "\"\"\"reset_output()\n",
    "output_file(\"periodic.html\", title=\"an example\")\n",
    "save(p)\n",
    "IFrame('periodic.html', width=700, height=500)\"\"\"\n",
    "reset_output()\n",
    "output_notebook()\n",
    "show(p, notebook_handle=True)"
   ]
  },
  {
   "cell_type": "code",
   "execution_count": null,
   "metadata": {
    "slideshow": {
     "slide_type": "skip"
    },
    "tags": [
     "to_remove"
    ]
   },
   "outputs": [],
   "source": [
    "plot, toggle1, toggle2 = flip_flop_buttons()"
   ]
  },
  {
   "cell_type": "code",
   "execution_count": null,
   "metadata": {
    "slideshow": {
     "slide_type": "subslide"
    },
    "tags": [
     "to_remove"
    ]
   },
   "outputs": [],
   "source": [
    "layout = column(toggle1, toggle2, plot)\n",
    "reset_output()\n",
    "output_notebook()\n",
    "show(layout)"
   ]
  },
  {
   "cell_type": "code",
   "execution_count": null,
   "metadata": {
    "slideshow": {
     "slide_type": "skip"
    },
    "tags": [
     "to_remove"
    ]
   },
   "outputs": [],
   "source": [
    "layout = a_little_dashboard()"
   ]
  },
  {
   "cell_type": "code",
   "execution_count": null,
   "metadata": {
    "slideshow": {
     "slide_type": "subslide"
    },
    "tags": [
     "to_remove"
    ]
   },
   "outputs": [],
   "source": [
    "reset_output()\n",
    "output_notebook()\n",
    "show(layout, notebook_handle=True)"
   ]
  },
  {
   "cell_type": "markdown",
   "metadata": {
    "slideshow": {
     "slide_type": "slide"
    }
   },
   "source": [
    "<h1  style=\"text-align:center;\"><a href=\"http://mpld3.github.io/examples/custom_plugin.html\" target=\"_blank\">mpld3</a></h1>"
   ]
  },
  {
   "cell_type": "code",
   "execution_count": null,
   "metadata": {
    "slideshow": {
     "slide_type": "skip"
    }
   },
   "outputs": [],
   "source": [
    "import mpld3\n",
    "from mpld3_utils import *\n",
    "\n",
    "#the following line is important to make sure the interactive plot appears in the note book\n",
    "mpld3.enable_notebook()\n",
    "\n",
    "def create_random_walk():\n",
    "    N_paths = 50\n",
    "    N_steps = 100\n",
    "\n",
    "    x = np.linspace(0, 10, 100)\n",
    "    y = 0.1 * (np.random.random((N_paths, N_steps)) - 0.5)\n",
    "    y = y.cumsum(1)\n",
    "\n",
    "    fig, ax = plt.subplots(subplot_kw={'xticks': [], 'yticks': []}, figsize=(16, 10))\n",
    "    lines = ax.plot(x, y.T, color='blue', lw=4, alpha=0.1)\n",
    "    plugins.connect(fig, HighlightLines(lines))"
   ]
  },
  {
   "cell_type": "code",
   "execution_count": null,
   "metadata": {
    "slideshow": {
     "slide_type": "subslide"
    },
    "tags": [
     "to_remove"
    ]
   },
   "outputs": [],
   "source": [
    "create_random_walk()"
   ]
  },
  {
   "cell_type": "code",
   "execution_count": null,
   "metadata": {
    "slideshow": {
     "slide_type": "skip"
    }
   },
   "outputs": [],
   "source": [
    "#good hack from JavadBa\n",
    "import json\n",
    "class NumpyEncoder(json.JSONEncoder):\n",
    "    def default(self, obj):\n",
    "        import numpy as np\n",
    "        if isinstance(obj, np.ndarray):\n",
    "            return obj.tolist()\n",
    "        return json.JSONEncoder.default(self, obj)\n",
    "from mpld3 import _display\n",
    "_display.NumpyEncoder = NumpyEncoder"
   ]
  },
  {
   "cell_type": "code",
   "execution_count": null,
   "metadata": {
    "slideshow": {
     "slide_type": "skip"
    }
   },
   "outputs": [],
   "source": [
    "def create_linked_views():\n",
    "    fig, ax = plt.subplots(2)\n",
    "\n",
    "    # scatter periods and amplitudes\n",
    "    np.random.seed(0)\n",
    "    P = 0.2 + np.random.random(size=20)\n",
    "    A = np.random.random(size=20)\n",
    "    x = np.linspace(0, 10, 100)\n",
    "    data = np.array([[x, Ai * np.sin(x / Pi)]\n",
    "                     for (Ai, Pi) in zip(A, P)])\n",
    "    points = ax[1].scatter(P, A, c=P + A,\n",
    "                           s=200, alpha=0.5)\n",
    "    ax[1].set_xlabel('Period')\n",
    "    ax[1].set_ylabel('Amplitude')\n",
    "\n",
    "    # create the line object\n",
    "    lines = ax[0].plot(x, 0 * x, '-w', lw=3, alpha=0.5)\n",
    "    ax[0].set_ylim(-1, 1)\n",
    "\n",
    "    ax[0].set_title(\"Hover over points to see lines\")\n",
    "\n",
    "    # transpose line data and add plugin\n",
    "    linedata = data.transpose(0, 2, 1).tolist()\n",
    "    plugins.connect(fig, LinkedView(points, lines[0], linedata))"
   ]
  },
  {
   "cell_type": "code",
   "execution_count": null,
   "metadata": {
    "slideshow": {
     "slide_type": "subslide"
    },
    "tags": [
     "to_remove"
    ]
   },
   "outputs": [],
   "source": [
    "create_linked_views()"
   ]
  },
  {
   "cell_type": "markdown",
   "metadata": {
    "slideshow": {
     "slide_type": "slide"
    }
   },
   "source": [
    "# Regular Expressions"
   ]
  },
  {
   "cell_type": "raw",
   "metadata": {
    "slideshow": {
     "slide_type": "subslide"
    }
   },
   "source": [
    "<image>\n",
    "<section  data-background-transition=\"zoom\">\n",
    "<h2>Pretty Code</h2>\n",
    "<div class=\"pretty_code\">\n",
    "<pre><code class=\"python\">\n",
    "import mpld3\n",
    "from mpld3_utils import *\n",
    "\n",
    "mpld3.enable_notebook()\n",
    "def create_random_walk():\n",
    "    N_paths = 50\n",
    "    N_steps = 100\n",
    "\n",
    "    x = np.linspace(0, 10, 100)\n",
    "    y = 0.1 * (np.random.random((N_paths, N_steps)) - 0.5)\n",
    "    y = y.cumsum(1)\n",
    "\n",
    "    fig, ax = plt.subplots(subplot_kw={'xticks': [], 'yticks': []}, figsize=(16, 10))\n",
    "    lines = ax.plot(x, y.T, color='blue', lw=4, alpha=0.1)\n",
    "    plugins.connect(fig, HighlightLines(lines))\n",
    "</code></pre>\n",
    "</div>\n",
    "<p>\n",
    "Code syntax highlighting courtesy of <a href=\"http://softwaremaniacs.org/soft/highlight/en/description/\">highlight.js</a>.\n",
    "</p>\n",
    "</section>\n",
    "</image>"
   ]
  },
  {
   "cell_type": "code",
   "execution_count": null,
   "metadata": {
    "slideshow": {
     "slide_type": "subslide"
    }
   },
   "outputs": [],
   "source": [
    "import re\n",
    "content = \"somestuff_____XXsomeotherstuffZ___someothersyff____XotherotherotherZ__yes_manymanymoreZ\"\n",
    "#content = \"somestuff_____XXXXXsomeotherstuffZ___someothersyffotherotherotherZZZZ__yes\"\n",
    "content = re.sub(r\"(X)(X.*?Z)\",r\"\\1R\", content)\n",
    "#content = re.sub(r\"(XX.*?Z)\",r\"RRR\", content)\n",
    "#content = re.sub(r\"(X.*?Z)\",r\"\", content)\n",
    "#content = re.sub(r\"RRR\",r\"X\", content)\n",
    "content"
   ]
  },
  {
   "cell_type": "code",
   "execution_count": null,
   "metadata": {
    "slideshow": {
     "slide_type": "subslide"
    }
   },
   "outputs": [],
   "source": [
    "content = re.sub(\"XX\",\"XRX\", content)\n",
    "content = re.sub(r\"(RX.*?Z)\",r\"X\", content)\n",
    "content = re.sub(r\"(XX.*?X)(.*?Z)\",r\"\\1\", content)\n",
    "content\n",
    "content = re.sub(r\"(.*?X)(.*?Z)\",r\"\\1\", content)\n",
    "content"
   ]
  },
  {
   "cell_type": "code",
   "execution_count": null,
   "metadata": {
    "slideshow": {
     "slide_type": "subslide"
    }
   },
   "outputs": [],
   "source": [
    "0.1+0.2"
   ]
  },
  {
   "cell_type": "markdown",
   "metadata": {
    "slideshow": {
     "slide_type": "skip"
    }
   },
   "source": [
    "* next: create the html slides in two ways css from seminar_utils\n",
    "* css from css file\n",
    "* use a simple table and try to place a bunch of them next to each other\n",
    "* how to show a text by hovering over a cell (jQuery?!! ask engineering people\n",
    "\n",
    "$f_1=2$"
   ]
  },
  {
   "cell_type": "markdown",
   "metadata": {
    "slideshow": {
     "slide_type": "slide"
    }
   },
   "source": [
    "<h1><a href=\"#/0/0\">Click to go back to the beginning of your journey</a></h1>"
   ]
  }
 ],
 "metadata": {
  "celltoolbar": "Slideshow",
  "kernelspec": {
   "display_name": "Python 3",
   "language": "python",
   "name": "python3"
  },
  "language_info": {
   "codemirror_mode": {
    "name": "ipython",
    "version": 3
   },
   "file_extension": ".py",
   "mimetype": "text/x-python",
   "name": "python",
   "nbconvert_exporter": "python",
   "pygments_lexer": "ipython3",
   "version": "3.6.6"
  },
  "latex_envs": {
   "LaTeX_envs_menu_present": true,
   "autoclose": false,
   "autocomplete": true,
   "bibliofile": "biblio.bib",
   "cite_by": "apalike",
   "current_citInitial": 1,
   "eqLabelWithNumbers": true,
   "eqNumInitial": 1,
   "hotkeys": {
    "equation": "Ctrl-E",
    "itemize": "Ctrl-I"
   },
   "labels_anchors": false,
   "latex_user_defs": false,
   "report_style_numbering": false,
   "user_envs_cfg": false
  }
 },
 "nbformat": 4,
 "nbformat_minor": 2
}
