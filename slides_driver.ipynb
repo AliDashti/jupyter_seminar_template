{
 "cells": [
  {
   "cell_type": "code",
   "execution_count": 1,
   "metadata": {},
   "outputs": [
    {
     "name": "stderr",
     "output_type": "stream",
     "text": [
      "[NbConvertApp] WARNING | Config option `template_path` not recognized by `NotebookExporter`.\n",
      "[NbConvertApp] Converting notebook presentation_cheatsheet.ipynb to notebook\n",
      "[NbConvertApp] Executing notebook with kernel: python3\n",
      "[NbConvertApp] Writing 1294840 bytes to presentation_cheatsheet.nbconvert.ipynb\n"
     ]
    }
   ],
   "source": [
    "!jupyter-nbconvert --to notebook --execute presentation_cheatsheet.ipynb"
   ]
  },
  {
   "cell_type": "code",
   "execution_count": 2,
   "metadata": {},
   "outputs": [
    {
     "name": "stderr",
     "output_type": "stream",
     "text": [
      "[NbConvertApp] Converting notebook presentation_cheatsheet.nbconvert.ipynb to slides\n",
      "[NbConvertApp] Writing 1129970 bytes to presentation_cheatsheet.nbconvert.slides.html\n"
     ]
    }
   ],
   "source": [
    "!jupyter-nbconvert presentation_cheatsheet.nbconvert.ipynb --config AD_slides_config.py"
   ]
  },
  {
   "cell_type": "code",
   "execution_count": 3,
   "metadata": {},
   "outputs": [
    {
     "name": "stdout",
     "output_type": "stream",
     "text": [
      "Successfully adjusted.\n"
     ]
    }
   ],
   "source": [
    "#this cell works perfectly fine for raw nb convert\n",
    "import re\n",
    "slide_name = \"./presentation_cheatsheet.nbconvert.slides.html\"\n",
    "with open(slide_name, 'r') as f:\n",
    "    content = f.read()\n",
    "\n",
    "content = re.sub(\"<section><image>\",\"\", content)\n",
    "content = re.sub(\"</image></section>\",\"\", content)\n",
    "#content = re.sub(\"<section><section>\",\"\", content)\n",
    "#content = re.sub(\"</section></section>\",\"\", content)\n",
    "with open(slide_name, 'w') as f:\n",
    "    f.write(content)\n",
    "print('Successfully adjusted.')"
   ]
  },
  {
   "cell_type": "code",
   "execution_count": 4,
   "metadata": {},
   "outputs": [
    {
     "name": "stdout",
     "output_type": "stream",
     "text": [
      "config:\n",
      "    C:\\Users\\.jupyter\n",
      "    C:\\Anaconda3\\envs\\tensorflow\\etc\\jupyter\n",
      "    C:\\ProgramData\\jupyter\n",
      "data:\n",
      "    C:\\Users\\Ali Dashti\\AppData\\Roaming\\jupyter\n",
      "    C:\\Anaconda3\\envs\\tensorflow\\share\\jupyter\n",
      "    C:\\ProgramData\\jupyter\n",
      "runtime:\n",
      "    C:\\Users\\Ali Dashti\\AppData\\Roaming\\jupyter\\runtime\n",
      "Currently running servers:\n",
      "http://localhost:8888/?token=3a720a8c7d458df1ca1372236f0f373a7142d31df1fefea9 :: C:\\Users\\Ali Dashti\\OneDrive\\Reviews_Slides\n",
      "http://localhost:8888/?token=ab8cff92a7274685334eb2347ec9280dfd340bde0df70ee1 :: C:\\Users\\Ali Dashti\\OneDrive\\Reviews_Slides\n"
     ]
    }
   ],
   "source": [
    "!jupyter --paths\n",
    "!jupyter-notebook list"
   ]
  },
  {
   "cell_type": "markdown",
   "metadata": {},
   "source": [
    "## Do this directly from terminal\n",
    "#jupyter notebook --generate-config\n",
    "#c.NotebookApp.browser = u'open -a \"\"C:\\Program Files\\Mozilla Firefox\\firefox.exe\"\" %s'"
   ]
  }
 ],
 "metadata": {
  "kernelspec": {
   "display_name": "Python 3",
   "language": "python",
   "name": "python3"
  },
  "language_info": {
   "codemirror_mode": {
    "name": "ipython",
    "version": 3
   },
   "file_extension": ".py",
   "mimetype": "text/x-python",
   "name": "python",
   "nbconvert_exporter": "python",
   "pygments_lexer": "ipython3",
   "version": "3.6.6"
  },
  "latex_envs": {
   "LaTeX_envs_menu_present": true,
   "autoclose": false,
   "autocomplete": true,
   "bibliofile": "biblio.bib",
   "cite_by": "apalike",
   "current_citInitial": 1,
   "eqLabelWithNumbers": true,
   "eqNumInitial": 1,
   "hotkeys": {
    "equation": "Ctrl-E",
    "itemize": "Ctrl-I"
   },
   "labels_anchors": false,
   "latex_user_defs": false,
   "report_style_numbering": false,
   "user_envs_cfg": false
  }
 },
 "nbformat": 4,
 "nbformat_minor": 2
}
